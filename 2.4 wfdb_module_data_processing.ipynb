{
  "nbformat": 4,
  "nbformat_minor": 0,
  "metadata": {
    "colab": {
      "name": "wfdb module- data processing.ipynb",
      "provenance": [],
      "collapsed_sections": [
        "FdR53E1M0GyU"
      ],
      "toc_visible": true
    },
    "kernelspec": {
      "name": "python3",
      "display_name": "Python 3"
    }
  },
  "cells": [
    {
      "cell_type": "markdown",
      "metadata": {
        "id": "7na29IqpqgZ8",
        "colab_type": "text"
      },
      "source": [
        "**wfdb module - python**\n",
        "\n",
        "https://wfdb.readthedocs.io/en/latest/index.html"
      ]
    },
    {
      "cell_type": "code",
      "metadata": {
        "id": "e4PW4NqehCws",
        "colab_type": "code",
        "colab": {}
      },
      "source": [
        "!pip install wfdb\n",
        "import wfdb\n",
        "import os"
      ],
      "execution_count": 1,
      "outputs": []
    },
    {
      "cell_type": "markdown",
      "metadata": {
        "id": "FdR53E1M0GyU",
        "colab_type": "text"
      },
      "source": [
        "# Downloading datasets from physionet"
      ]
    },
    {
      "cell_type": "code",
      "metadata": {
        "id": "vPvMg67TyD02",
        "colab_type": "code",
        "colab": {}
      },
      "source": [
        "# getting list of all the databases\n",
        "# wfdb.io.get_dbs()"
      ],
      "execution_count": 2,
      "outputs": []
    },
    {
      "cell_type": "code",
      "metadata": {
        "id": "kMo1MkQ_yDyq",
        "colab_type": "code",
        "colab": {}
      },
      "source": [
        " # Get a list of records belonging to a database.\n",
        "# wfdb.get_record_list('mitdb')"
      ],
      "execution_count": 3,
      "outputs": []
    },
    {
      "cell_type": "code",
      "metadata": {
        "id": "A_y2jSdi4YDg",
        "colab_type": "code",
        "colab": {}
      },
      "source": [
        "!mkdir '/content/database'"
      ],
      "execution_count": 5,
      "outputs": []
    },
    {
      "cell_type": "markdown",
      "metadata": {
        "id": "UXHhE7iR4LOZ",
        "colab_type": "text"
      },
      "source": [
        "db_dir : str\n",
        "    The PhysioNet database directory to download. eg. For database: ‘http://physionet.org/content/mitdb/’, db_dir=’mitdb’.\n",
        "    \n",
        "dl_dir : str\n",
        "    The full local directory path in which to download the files."
      ]
    },
    {
      "cell_type": "code",
      "metadata": {
        "id": "HUIFBw9WyDvL",
        "colab_type": "code",
        "colab": {
          "base_uri": "https://localhost:8080/",
          "height": 121
        },
        "outputId": "9d0d7e1e-55a0-4701-bf10-d3680a9bb856"
      },
      "source": [
        "# downloading database\n",
        "wfdb.dl_database('mitdb', '/content/database')"
      ],
      "execution_count": 6,
      "outputs": [
        {
          "output_type": "stream",
          "text": [
            "Generating record list for: 0001\n",
            "Generating record list for: 0201\n",
            "Generating list of all files for: 0001\n",
            "Generating list of all files for: 0201\n",
            "Downloading files...\n",
            "Finished downloading files\n"
          ],
          "name": "stdout"
        }
      ]
    },
    {
      "cell_type": "code",
      "metadata": {
        "id": "i0vDYdfxyDrM",
        "colab_type": "code",
        "colab": {
          "base_uri": "https://localhost:8080/",
          "height": 52
        },
        "outputId": "1a0a0a0c-c986-4091-b84f-78536828e90d"
      },
      "source": [
        "#Download specified files from a PhysioNet database.\n",
        "wfdb.dl_files('ahadb', os.getcwd(),\n",
        "                  ['0001.hea',\n",
        "                  '0001.dat'])"
      ],
      "execution_count": null,
      "outputs": [
        {
          "output_type": "stream",
          "text": [
            "Downloading files...\n",
            "Finished downloading files\n"
          ],
          "name": "stdout"
        }
      ]
    },
    {
      "cell_type": "markdown",
      "metadata": {
        "id": "Ub7jU2UyzGYa",
        "colab_type": "text"
      },
      "source": [
        "# Data processing\n",
        "\n",
        "https://wfdb.readthedocs.io/en/latest/plot.html"
      ]
    },
    {
      "cell_type": "code",
      "metadata": {
        "id": "fmVeu7-CyD-M",
        "colab_type": "code",
        "colab": {}
      },
      "source": [
        "#WFDB Records\n",
        "record = wfdb.rdrecord('/content/100', sampto=200)\n",
        "\n",
        "#WFDB Anotations\n",
        "annotation = wfdb.rdann('/content/100', 'atr', sampto=200)"
      ],
      "execution_count": 13,
      "outputs": []
    },
    {
      "cell_type": "code",
      "metadata": {
        "id": "DtXNr7s2yD7E",
        "colab_type": "code",
        "colab": {
          "base_uri": "https://localhost:8080/",
          "height": 350
        },
        "outputId": "5522ce11-65c5-4aff-b24b-6e9312d3a113"
      },
      "source": [
        "wfdb.plot_wfdb(record=record, annotation=annotation, plot_sym=True , \n",
        "                   time_units='seconds', title='MIT-BIH Record 100',\n",
        "                   figsize=(10,5))"
      ],
      "execution_count": 14,
      "outputs": [
        {
          "output_type": "display_data",
          "data": {
            "image/png": "[encoded data removed]",
            "text/plain": [
              "<Figure size 720x360 with 2 Axes>"
            ]
          },
          "metadata": {
            "tags": [],
            "needs_background": "light"
          }
        }
      ]
    },
    {
      "cell_type": "code",
      "metadata": {
        "id": "cyipP5VixHu5",
        "colab_type": "code",
        "colab": {
          "base_uri": "https://localhost:8080/",
          "height": 34
        },
        "outputId": "1f92e5bf-a93d-4658-d265-8b1e602d75ac"
      },
      "source": [
        "ecg_record = wfdb.rdheader('/content/MIT-BIH- atr dat files-1/100')  #reads hea files\n",
        "ecg_record"
      ],
      "execution_count": null,
      "outputs": [
        {
          "output_type": "execute_result",
          "data": {
            "text/plain": [
              "<wfdb.io.record.Record at 0x7f07e6de22e8>"
            ]
          },
          "metadata": {
            "tags": []
          },
          "execution_count": 10
        }
      ]
    },
    {
      "cell_type": "code",
      "metadata": {
        "id": "5a1KnCewxwLI",
        "colab_type": "code",
        "colab": {
          "base_uri": "https://localhost:8080/",
          "height": 139
        },
        "outputId": "0e57bec6-e997-4796-c98a-c57dffdd7683"
      },
      "source": [
        "signals, fields = wfdb.rdsamp('/content/MIT-BIH- atr dat files-1/100',\n",
        "                                  sampfrom=800)\n",
        "signals"
      ],
      "execution_count": null,
      "outputs": [
        {
          "output_type": "execute_result",
          "data": {
            "text/plain": [
              "array([[-0.295, -0.19 ],\n",
              "       [-0.31 , -0.19 ],\n",
              "       [-0.325, -0.21 ],\n",
              "       ...,\n",
              "       [-0.675, -0.365],\n",
              "       [-0.765, -0.335],\n",
              "       [-1.28 ,  0.   ]])"
            ]
          },
          "metadata": {
            "tags": []
          },
          "execution_count": 14
        }
      ]
    },
    {
      "cell_type": "code",
      "metadata": {
        "id": "K6fs1WImx-GO",
        "colab_type": "code",
        "colab": {
          "base_uri": "https://localhost:8080/",
          "height": 156
        },
        "outputId": "89cf5c1c-0e21-43e3-ad5d-5f8d503742fc"
      },
      "source": [
        "fields"
      ],
      "execution_count": null,
      "outputs": [
        {
          "output_type": "execute_result",
          "data": {
            "text/plain": [
              "{'base_date': None,\n",
              " 'base_time': None,\n",
              " 'comments': ['69 M 1085 1629 x1', 'Aldomet, Inderal'],\n",
              " 'fs': 360,\n",
              " 'n_sig': 2,\n",
              " 'sig_len': 649200,\n",
              " 'sig_name': ['MLII', 'V5'],\n",
              " 'units': ['mV', 'mV']}"
            ]
          },
          "metadata": {
            "tags": []
          },
          "execution_count": 15
        }
      ]
    },
    {
      "cell_type": "code",
      "metadata": {
        "id": "g2lE6fZ48Clp",
        "colab_type": "code",
        "colab": {}
      },
      "source": [
        "import wfdb\n",
        "from wfdb import processing"
      ],
      "execution_count": 2,
      "outputs": []
    },
    {
      "cell_type": "markdown",
      "metadata": {
        "id": "DSynqmIY-6EC",
        "colab_type": "text"
      },
      "source": [
        "**Finding local peaks**"
      ]
    },
    {
      "cell_type": "code",
      "metadata": {
        "id": "9bA3rENm9KKW",
        "colab_type": "code",
        "colab": {
          "base_uri": "https://localhost:8080/",
          "height": 34
        },
        "outputId": "8d4b3a8d-bd47-473a-bd59-d25ebfd3a787"
      },
      "source": [
        "#wfdb.processing.xqrs_detect(sig, fs, sampfrom=0, sampto='end', conf=None, learn=True, verbose=True)\n",
        "\n",
        "#sig, fields = wfdb.rdsamp('/content/100', sampfrom=0,channels=[0])\n",
        "sig, fields = wfdb.rdsamp('/content/100', sampfrom=0, sampto= 200 ,channels=[0])\n",
        "\n",
        "wfdb.processing.find_local_peaks(sig, radius = 10)"
      ],
      "execution_count": 5,
      "outputs": [
        {
          "output_type": "execute_result",
          "data": {
            "text/plain": [
              "array([  8,  25,  50,  77,  93, 110, 126, 140, 153, 165, 199])"
            ]
          },
          "metadata": {
            "tags": []
          },
          "execution_count": 5
        }
      ]
    },
    {
      "cell_type": "markdown",
      "metadata": {
        "id": "Yf5Jmb7F-t5E",
        "colab_type": "text"
      },
      "source": [
        "**QRS detection**\n",
        "\n",
        "```\n",
        ">>> import numpy as np\n",
        ">>> import wfdb\n",
        ">>> from wfdb import processing\n",
        "\n",
        ">>> # Detect using a physical input signal\n",
        ">>> record = wfdb.rdrecord('sample-data/100', channels=[0])\n",
        ">>> qrs_locs = processing.gqrs_detect(record.p_signal[:,0], fs=record.fs)\n",
        "\n",
        ">>> # Detect using a digital input signal\n",
        ">>> record_2 = wfdb.rdrecord('sample-data/100', channels=[0], physical=False)\n",
        ">>> qrs_locs_2 = processing.gqrs_detect(d_sig=record_2.d_signal[:,0],\n",
        "                                        fs=record_2.fs,\n",
        "                                        adc_gain=record_2.adc_gain[0],\n",
        "                                        adc_zero=record_2.adc_zero[0])\n",
        "\n",
        "```\n",
        "\n",
        "\n",
        "\n"
      ]
    },
    {
      "cell_type": "code",
      "metadata": {
        "id": "MR95Nx778RR2",
        "colab_type": "code",
        "colab": {
          "base_uri": "https://localhost:8080/",
          "height": 366
        },
        "outputId": "ed9847f2-5d21-44f2-ea2f-54f8a167c3ec"
      },
      "source": [
        "#wfdb.processing.xqrs_detect(sig, fs, sampfrom=0, sampto='end', conf=None, learn=True, verbose=True)\n",
        "\n",
        "sig, fields = wfdb.rdsamp('/content/100', sampfrom=0, sampto= 200 ,channels=[0])\n",
        "xqrs = processing.XQRS(sig=sig[:,0], fs=fields['fs'])\n",
        "xqrs.detect()\n",
        "wfdb.plot_items(signal=sig, ann_samp=[xqrs.qrs_inds])"
      ],
      "execution_count": 4,
      "outputs": [
        {
          "output_type": "stream",
          "text": [
            "Learning initial signal parameters...\n",
            "Failed to find 8 beats during learning.\n",
            "Initializing using default parameters\n",
            "Running QRS detection...\n",
            "QRS detection complete.\n"
          ],
          "name": "stdout"
        },
        {
          "output_type": "display_data",
          "data": {
            "image/png": "[encoded data removed]",
            "text/plain": [
              "<Figure size 432x288 with 1 Axes>"
            ]
          },
          "metadata": {
            "tags": [],
            "needs_background": "light"
          }
        }
      ]
    },
    {
      "cell_type": "markdown",
      "metadata": {
        "id": "l7lygN8BABKJ",
        "colab_type": "text"
      },
      "source": [
        "**Annotation Evaluators**"
      ]
    },
    {
      "cell_type": "code",
      "metadata": {
        "id": "DIjlRLIh5rUY",
        "colab_type": "code",
        "colab": {
          "base_uri": "https://localhost:8080/",
          "height": 487
        },
        "outputId": "b029c5de-f286-4e78-f973-5012354b950e"
      },
      "source": [
        "sig, fields = wfdb.rdsamp('100',sampfrom=0, sampto= 200000, channels=[0])\n",
        "ann_ref = wfdb.rdann('100','atr' , sampfrom=0, sampto= 200000,)\n",
        "xqrs = processing.XQRS(sig=sig[:,0], fs=fields['fs'])\n",
        "xqrs.detect()\n",
        "\n",
        "comparitor = processing.compare_annotations(ann_ref.sample[1:],\n",
        "                                                xqrs.qrs_inds,\n",
        "                                                int(0.1 * fields['fs']),\n",
        "                                                sig[:,0])\n",
        "comparitor.print_summary()\n",
        "\n",
        "comparitor.plot()"
      ],
      "execution_count": 10,
      "outputs": [
        {
          "output_type": "stream",
          "text": [
            "Learning initial signal parameters...\n",
            "Found 8 beats during learning. Initializing using learned parameters\n",
            "Running QRS detection...\n",
            "QRS detection complete.\n",
            "703 reference annotations, 703 test annotations\n",
            "\n",
            "True Positives (matched samples): 703\n",
            "False Positives (unmatched test samples): 0\n",
            "False Negatives (unmatched reference samples): 0\n",
            "\n",
            "Sensitivity: 1.0000 (703/703)\n",
            "Positive Predictivity: 1.0000 (703/703)\n"
          ],
          "name": "stdout"
        },
        {
          "output_type": "display_data",
          "data": {
            "image/png": "[encoded data removed]",
            "text/plain": [
              "<Figure size 432x288 with 1 Axes>"
            ]
          },
          "metadata": {
            "tags": [],
            "needs_background": "light"
          }
        }
      ]
    },
    {
      "cell_type": "code",
      "metadata": {
        "id": "9jlr-Unc5rQy",
        "colab_type": "code",
        "colab": {}
      },
      "source": [
        ""
      ],
      "execution_count": null,
      "outputs": []
    },
    {
      "cell_type": "code",
      "metadata": {
        "id": "fJt9LI_n5rND",
        "colab_type": "code",
        "colab": {}
      },
      "source": [
        ""
      ],
      "execution_count": null,
      "outputs": []
    },
    {
      "cell_type": "code",
      "metadata": {
        "id": "c6wh-VOn5rHH",
        "colab_type": "code",
        "colab": {}
      },
      "source": [
        ""
      ],
      "execution_count": null,
      "outputs": []
    }
  ]
}